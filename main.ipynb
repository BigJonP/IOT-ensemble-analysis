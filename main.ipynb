{
 "cells": [
  {
   "cell_type": "code",
   "execution_count": 1,
   "metadata": {},
   "outputs": [
    {
     "name": "stdout",
     "output_type": "stream",
     "text": [
      "Requirement already satisfied: pandas in c:\\users\\jonat\\appdata\\local\\programs\\python\\python312\\lib\\site-packages (from -r requirements.txt (line 1)) (2.2.1)\n",
      "Requirement already satisfied: scikit-learn in c:\\users\\jonat\\appdata\\local\\programs\\python\\python312\\lib\\site-packages (from -r requirements.txt (line 2)) (1.4.1.post1)\n",
      "Requirement already satisfied: numpy<2,>=1.26.0 in c:\\users\\jonat\\appdata\\local\\programs\\python\\python312\\lib\\site-packages (from pandas->-r requirements.txt (line 1)) (1.26.4)\n",
      "Requirement already satisfied: python-dateutil>=2.8.2 in c:\\users\\jonat\\appdata\\roaming\\python\\python312\\site-packages (from pandas->-r requirements.txt (line 1)) (2.9.0.post0)\n",
      "Requirement already satisfied: pytz>=2020.1 in c:\\users\\jonat\\appdata\\local\\programs\\python\\python312\\lib\\site-packages (from pandas->-r requirements.txt (line 1)) (2024.1)\n",
      "Requirement already satisfied: tzdata>=2022.7 in c:\\users\\jonat\\appdata\\local\\programs\\python\\python312\\lib\\site-packages (from pandas->-r requirements.txt (line 1)) (2024.1)\n",
      "Requirement already satisfied: scipy>=1.6.0 in c:\\users\\jonat\\appdata\\local\\programs\\python\\python312\\lib\\site-packages (from scikit-learn->-r requirements.txt (line 2)) (1.12.0)\n",
      "Requirement already satisfied: joblib>=1.2.0 in c:\\users\\jonat\\appdata\\local\\programs\\python\\python312\\lib\\site-packages (from scikit-learn->-r requirements.txt (line 2)) (1.3.2)\n",
      "Requirement already satisfied: threadpoolctl>=2.0.0 in c:\\users\\jonat\\appdata\\local\\programs\\python\\python312\\lib\\site-packages (from scikit-learn->-r requirements.txt (line 2)) (3.3.0)\n",
      "Requirement already satisfied: six>=1.5 in c:\\users\\jonat\\appdata\\roaming\\python\\python312\\site-packages (from python-dateutil>=2.8.2->pandas->-r requirements.txt (line 1)) (1.16.0)\n",
      "Note: you may need to restart the kernel to use updated packages.\n"
     ]
    },
    {
     "name": "stderr",
     "output_type": "stream",
     "text": [
      "\n",
      "[notice] A new release of pip is available: 23.2.1 -> 24.0\n",
      "[notice] To update, run: python.exe -m pip install --upgrade pip\n"
     ]
    }
   ],
   "source": [
    "%pip install -r requirements.txt"
   ]
  },
  {
   "cell_type": "code",
   "execution_count": 2,
   "metadata": {},
   "outputs": [],
   "source": [
    "import pandas as pd\n",
    "import os\n",
    "from sklearn.model_selection import train_test_split\n",
    "from sklearn.preprocessing import StandardScaler\n",
    "from sklearn.ensemble import RandomForestClassifier\n",
    "from sklearn.linear_model import LogisticRegression\n",
    "from sklearn.metrics import accuracy_score, recall_score, precision_score\n",
    "\n",
    "pd.set_option('display.max_columns', None)"
   ]
  },
  {
   "cell_type": "markdown",
   "metadata": {},
   "source": [
    "### Loading Data"
   ]
  },
  {
   "cell_type": "code",
   "execution_count": 3,
   "metadata": {},
   "outputs": [],
   "source": [
    "df = pd.DataFrame()\n",
    "data_dir = \"CICIoT2023\"\n",
    "\n",
    "for file in os.listdir(data_dir):\n",
    "    f = os.path.join(data_dir, file)\n",
    "    curr_df = pd.read_csv(f)\n",
    "    df = pd.concat([df, curr_df])\n",
    "    break\n"
   ]
  },
  {
   "cell_type": "code",
   "execution_count": 4,
   "metadata": {},
   "outputs": [
    {
     "data": {
      "text/html": [
       "<div>\n",
       "<style scoped>\n",
       "    .dataframe tbody tr th:only-of-type {\n",
       "        vertical-align: middle;\n",
       "    }\n",
       "\n",
       "    .dataframe tbody tr th {\n",
       "        vertical-align: top;\n",
       "    }\n",
       "\n",
       "    .dataframe thead th {\n",
       "        text-align: right;\n",
       "    }\n",
       "</style>\n",
       "<table border=\"1\" class=\"dataframe\">\n",
       "  <thead>\n",
       "    <tr style=\"text-align: right;\">\n",
       "      <th></th>\n",
       "      <th>flow_duration</th>\n",
       "      <th>Header_Length</th>\n",
       "      <th>Protocol Type</th>\n",
       "      <th>Duration</th>\n",
       "      <th>Rate</th>\n",
       "      <th>Srate</th>\n",
       "      <th>Drate</th>\n",
       "      <th>fin_flag_number</th>\n",
       "      <th>syn_flag_number</th>\n",
       "      <th>rst_flag_number</th>\n",
       "      <th>psh_flag_number</th>\n",
       "      <th>ack_flag_number</th>\n",
       "      <th>ece_flag_number</th>\n",
       "      <th>cwr_flag_number</th>\n",
       "      <th>ack_count</th>\n",
       "      <th>syn_count</th>\n",
       "      <th>fin_count</th>\n",
       "      <th>urg_count</th>\n",
       "      <th>rst_count</th>\n",
       "      <th>HTTP</th>\n",
       "      <th>HTTPS</th>\n",
       "      <th>DNS</th>\n",
       "      <th>Telnet</th>\n",
       "      <th>SMTP</th>\n",
       "      <th>SSH</th>\n",
       "      <th>IRC</th>\n",
       "      <th>TCP</th>\n",
       "      <th>UDP</th>\n",
       "      <th>DHCP</th>\n",
       "      <th>ARP</th>\n",
       "      <th>ICMP</th>\n",
       "      <th>IPv</th>\n",
       "      <th>LLC</th>\n",
       "      <th>Tot sum</th>\n",
       "      <th>Min</th>\n",
       "      <th>Max</th>\n",
       "      <th>AVG</th>\n",
       "      <th>Std</th>\n",
       "      <th>Tot size</th>\n",
       "      <th>IAT</th>\n",
       "      <th>Number</th>\n",
       "      <th>Magnitue</th>\n",
       "      <th>Radius</th>\n",
       "      <th>Covariance</th>\n",
       "      <th>Variance</th>\n",
       "      <th>Weight</th>\n",
       "      <th>label</th>\n",
       "    </tr>\n",
       "  </thead>\n",
       "  <tbody>\n",
       "    <tr>\n",
       "      <th>0</th>\n",
       "      <td>0.0</td>\n",
       "      <td>54.00</td>\n",
       "      <td>6.00</td>\n",
       "      <td>64.0</td>\n",
       "      <td>0.329807</td>\n",
       "      <td>0.329807</td>\n",
       "      <td>0.0</td>\n",
       "      <td>1.0</td>\n",
       "      <td>0.0</td>\n",
       "      <td>1.0</td>\n",
       "      <td>0.0</td>\n",
       "      <td>0.0</td>\n",
       "      <td>0.0</td>\n",
       "      <td>0.0</td>\n",
       "      <td>1.0</td>\n",
       "      <td>0.0</td>\n",
       "      <td>1.0</td>\n",
       "      <td>0.0</td>\n",
       "      <td>0.0</td>\n",
       "      <td>0.0</td>\n",
       "      <td>0.0</td>\n",
       "      <td>0.0</td>\n",
       "      <td>0.0</td>\n",
       "      <td>0.0</td>\n",
       "      <td>0.0</td>\n",
       "      <td>0.0</td>\n",
       "      <td>1.0</td>\n",
       "      <td>0.0</td>\n",
       "      <td>0.0</td>\n",
       "      <td>0.0</td>\n",
       "      <td>0.0</td>\n",
       "      <td>1.0</td>\n",
       "      <td>1.0</td>\n",
       "      <td>567.00</td>\n",
       "      <td>54.0</td>\n",
       "      <td>54.0</td>\n",
       "      <td>54.000000</td>\n",
       "      <td>0.000000</td>\n",
       "      <td>54.00</td>\n",
       "      <td>8.334383e+07</td>\n",
       "      <td>9.5</td>\n",
       "      <td>10.392305</td>\n",
       "      <td>0.000000</td>\n",
       "      <td>0.000000</td>\n",
       "      <td>0.00</td>\n",
       "      <td>141.55</td>\n",
       "      <td>DDoS-RSTFINFlood</td>\n",
       "    </tr>\n",
       "    <tr>\n",
       "      <th>1</th>\n",
       "      <td>0.0</td>\n",
       "      <td>57.04</td>\n",
       "      <td>6.33</td>\n",
       "      <td>64.0</td>\n",
       "      <td>4.290556</td>\n",
       "      <td>4.290556</td>\n",
       "      <td>0.0</td>\n",
       "      <td>0.0</td>\n",
       "      <td>0.0</td>\n",
       "      <td>0.0</td>\n",
       "      <td>0.0</td>\n",
       "      <td>0.0</td>\n",
       "      <td>0.0</td>\n",
       "      <td>0.0</td>\n",
       "      <td>0.0</td>\n",
       "      <td>0.0</td>\n",
       "      <td>0.0</td>\n",
       "      <td>0.0</td>\n",
       "      <td>0.0</td>\n",
       "      <td>1.0</td>\n",
       "      <td>0.0</td>\n",
       "      <td>0.0</td>\n",
       "      <td>0.0</td>\n",
       "      <td>0.0</td>\n",
       "      <td>0.0</td>\n",
       "      <td>0.0</td>\n",
       "      <td>1.0</td>\n",
       "      <td>0.0</td>\n",
       "      <td>0.0</td>\n",
       "      <td>0.0</td>\n",
       "      <td>0.0</td>\n",
       "      <td>1.0</td>\n",
       "      <td>1.0</td>\n",
       "      <td>581.33</td>\n",
       "      <td>54.0</td>\n",
       "      <td>66.3</td>\n",
       "      <td>54.796404</td>\n",
       "      <td>2.822973</td>\n",
       "      <td>57.04</td>\n",
       "      <td>8.292607e+07</td>\n",
       "      <td>9.5</td>\n",
       "      <td>10.464666</td>\n",
       "      <td>4.010353</td>\n",
       "      <td>160.987842</td>\n",
       "      <td>0.05</td>\n",
       "      <td>141.55</td>\n",
       "      <td>DoS-TCP_Flood</td>\n",
       "    </tr>\n",
       "    <tr>\n",
       "      <th>2</th>\n",
       "      <td>0.0</td>\n",
       "      <td>0.00</td>\n",
       "      <td>1.00</td>\n",
       "      <td>64.0</td>\n",
       "      <td>33.396799</td>\n",
       "      <td>33.396799</td>\n",
       "      <td>0.0</td>\n",
       "      <td>0.0</td>\n",
       "      <td>0.0</td>\n",
       "      <td>0.0</td>\n",
       "      <td>0.0</td>\n",
       "      <td>0.0</td>\n",
       "      <td>0.0</td>\n",
       "      <td>0.0</td>\n",
       "      <td>0.0</td>\n",
       "      <td>0.0</td>\n",
       "      <td>0.0</td>\n",
       "      <td>0.0</td>\n",
       "      <td>0.0</td>\n",
       "      <td>0.0</td>\n",
       "      <td>0.0</td>\n",
       "      <td>0.0</td>\n",
       "      <td>0.0</td>\n",
       "      <td>0.0</td>\n",
       "      <td>0.0</td>\n",
       "      <td>0.0</td>\n",
       "      <td>0.0</td>\n",
       "      <td>0.0</td>\n",
       "      <td>0.0</td>\n",
       "      <td>0.0</td>\n",
       "      <td>1.0</td>\n",
       "      <td>1.0</td>\n",
       "      <td>1.0</td>\n",
       "      <td>441.00</td>\n",
       "      <td>42.0</td>\n",
       "      <td>42.0</td>\n",
       "      <td>42.000000</td>\n",
       "      <td>0.000000</td>\n",
       "      <td>42.00</td>\n",
       "      <td>8.312799e+07</td>\n",
       "      <td>9.5</td>\n",
       "      <td>9.165151</td>\n",
       "      <td>0.000000</td>\n",
       "      <td>0.000000</td>\n",
       "      <td>0.00</td>\n",
       "      <td>141.55</td>\n",
       "      <td>DDoS-ICMP_Flood</td>\n",
       "    </tr>\n",
       "  </tbody>\n",
       "</table>\n",
       "</div>"
      ],
      "text/plain": [
       "   flow_duration  Header_Length  Protocol Type  Duration       Rate  \\\n",
       "0            0.0          54.00           6.00      64.0   0.329807   \n",
       "1            0.0          57.04           6.33      64.0   4.290556   \n",
       "2            0.0           0.00           1.00      64.0  33.396799   \n",
       "\n",
       "       Srate  Drate  fin_flag_number  syn_flag_number  rst_flag_number  \\\n",
       "0   0.329807    0.0              1.0              0.0              1.0   \n",
       "1   4.290556    0.0              0.0              0.0              0.0   \n",
       "2  33.396799    0.0              0.0              0.0              0.0   \n",
       "\n",
       "   psh_flag_number  ack_flag_number  ece_flag_number  cwr_flag_number  \\\n",
       "0              0.0              0.0              0.0              0.0   \n",
       "1              0.0              0.0              0.0              0.0   \n",
       "2              0.0              0.0              0.0              0.0   \n",
       "\n",
       "   ack_count  syn_count  fin_count  urg_count  rst_count  HTTP  HTTPS  DNS  \\\n",
       "0        1.0        0.0        1.0        0.0        0.0   0.0    0.0  0.0   \n",
       "1        0.0        0.0        0.0        0.0        0.0   1.0    0.0  0.0   \n",
       "2        0.0        0.0        0.0        0.0        0.0   0.0    0.0  0.0   \n",
       "\n",
       "   Telnet  SMTP  SSH  IRC  TCP  UDP  DHCP  ARP  ICMP  IPv  LLC  Tot sum   Min  \\\n",
       "0     0.0   0.0  0.0  0.0  1.0  0.0   0.0  0.0   0.0  1.0  1.0   567.00  54.0   \n",
       "1     0.0   0.0  0.0  0.0  1.0  0.0   0.0  0.0   0.0  1.0  1.0   581.33  54.0   \n",
       "2     0.0   0.0  0.0  0.0  0.0  0.0   0.0  0.0   1.0  1.0  1.0   441.00  42.0   \n",
       "\n",
       "    Max        AVG       Std  Tot size           IAT  Number   Magnitue  \\\n",
       "0  54.0  54.000000  0.000000     54.00  8.334383e+07     9.5  10.392305   \n",
       "1  66.3  54.796404  2.822973     57.04  8.292607e+07     9.5  10.464666   \n",
       "2  42.0  42.000000  0.000000     42.00  8.312799e+07     9.5   9.165151   \n",
       "\n",
       "     Radius  Covariance  Variance  Weight             label  \n",
       "0  0.000000    0.000000      0.00  141.55  DDoS-RSTFINFlood  \n",
       "1  4.010353  160.987842      0.05  141.55     DoS-TCP_Flood  \n",
       "2  0.000000    0.000000      0.00  141.55   DDoS-ICMP_Flood  "
      ]
     },
     "execution_count": 4,
     "metadata": {},
     "output_type": "execute_result"
    }
   ],
   "source": [
    "df.head(3)"
   ]
  },
  {
   "cell_type": "code",
   "execution_count": 5,
   "metadata": {},
   "outputs": [
    {
     "data": {
      "text/plain": [
       "(238687, 47)"
      ]
     },
     "execution_count": 5,
     "metadata": {},
     "output_type": "execute_result"
    }
   ],
   "source": [
    "df.shape"
   ]
  },
  {
   "cell_type": "code",
   "execution_count": 6,
   "metadata": {},
   "outputs": [
    {
     "data": {
      "text/plain": [
       "label\n",
       "DDoS-ICMP_Flood            36554\n",
       "DDoS-UDP_Flood             27626\n",
       "DDoS-TCP_Flood             23149\n",
       "DDoS-PSHACK_Flood          21210\n",
       "DDoS-SYN_Flood             20739\n",
       "DDoS-RSTFINFlood           20669\n",
       "DDoS-SynonymousIP_Flood    18189\n",
       "DoS-UDP_Flood              16957\n",
       "DoS-TCP_Flood              13630\n",
       "DoS-SYN_Flood              10275\n",
       "BenignTraffic               5600\n",
       "Mirai-greeth_flood          5016\n",
       "Mirai-udpplain              4661\n",
       "Mirai-greip_flood           3758\n",
       "DDoS-ICMP_Fragmentation     2377\n",
       "MITM-ArpSpoofing            1614\n",
       "DDoS-ACK_Fragmentation      1505\n",
       "DDoS-UDP_Fragmentation      1484\n",
       "DNS_Spoofing                 925\n",
       "Recon-HostDiscovery          697\n",
       "Recon-OSScan                 517\n",
       "Recon-PortScan               430\n",
       "DoS-HTTP_Flood               414\n",
       "VulnerabilityScan            210\n",
       "DDoS-HTTP_Flood              169\n",
       "DDoS-SlowLoris               106\n",
       "DictionaryBruteForce          63\n",
       "SqlInjection                  31\n",
       "BrowserHijacking              30\n",
       "CommandInjection              28\n",
       "Backdoor_Malware              22\n",
       "XSS                           18\n",
       "Uploading_Attack               8\n",
       "Recon-PingSweep                6\n",
       "Name: count, dtype: int64"
      ]
     },
     "execution_count": 6,
     "metadata": {},
     "output_type": "execute_result"
    }
   ],
   "source": [
    "df[\"label\"].value_counts()"
   ]
  },
  {
   "cell_type": "code",
   "execution_count": 7,
   "metadata": {},
   "outputs": [
    {
     "name": "stdout",
     "output_type": "stream",
     "text": [
      "X_train shape = (190949, 46)\n",
      "y_train shape = (190949,)\n",
      "X_test shape = (47738, 46)\n",
      "y_test shape = (47738,)\n"
     ]
    },
    {
     "data": {
      "text/plain": [
       "array([-1.80253163e-02, -1.67424666e-01, -3.42900462e-01, -1.67211843e-01,\n",
       "       -9.31117565e-02, -9.31117565e-02, -3.05100533e-03,  3.24906971e+00,\n",
       "       -5.09563604e-01,  3.16732340e+00, -3.12083895e-01, -3.77523675e-01,\n",
       "        0.00000000e+00,  0.00000000e+00,  3.17441373e+00, -4.97104570e-01,\n",
       "        2.85180395e+00, -8.67756282e-02, -1.19045354e-01, -2.27289750e-01,\n",
       "       -2.41396859e-01, -1.29464890e-02,  0.00000000e+00,  0.00000000e+00,\n",
       "       -6.78878363e-03,  0.00000000e+00,  8.60678187e-01, -5.19352017e-01,\n",
       "        0.00000000e+00, -8.92235921e-03, -4.41249797e-01,  1.19359230e-02,\n",
       "        1.19359230e-02, -2.84363641e-01, -2.69827118e-01, -2.41941633e-01,\n",
       "       -2.93314868e-01, -2.05884713e-01, -2.91609711e-01,  1.12000430e-02,\n",
       "        3.29118194e-03, -3.17348305e-01, -2.05716259e-01, -7.14054803e-02,\n",
       "       -4.14431178e-01,  3.29712418e-03])"
      ]
     },
     "execution_count": 7,
     "metadata": {},
     "output_type": "execute_result"
    }
   ],
   "source": [
    "X = df.loc[:, df.columns != \"label\"]\n",
    "y = df[\"label\"]\n",
    "\n",
    "standard_scaler = StandardScaler()\n",
    "X = standard_scaler.fit_transform(X)\n",
    "X_train, X_test, y_train, y_test = train_test_split(X, y, test_size=0.2, random_state=42)\n",
    "print(f\"X_train shape = {X_train.shape}\")\n",
    "print(f\"y_train shape = {y_train.shape}\")\n",
    "print(f\"X_test shape = {X_test.shape}\")\n",
    "print(f\"y_test shape = {y_test.shape}\")\n",
    "X[0]\n"
   ]
  },
  {
   "cell_type": "markdown",
   "metadata": {},
   "source": [
    "### Models"
   ]
  },
  {
   "cell_type": "code",
   "execution_count": 8,
   "metadata": {},
   "outputs": [
    {
     "name": "stdout",
     "output_type": "stream",
     "text": [
      "finished training LogisticRegression(n_jobs=-1, random_state=42)\n",
      "finished training RandomForestClassifier(random_state=42)\n"
     ]
    }
   ],
   "source": [
    "ml_models = [\n",
    "    LogisticRegression(random_state=42, n_jobs=-1),\n",
    "    RandomForestClassifier(random_state=42)\n",
    "]\n",
    "\n",
    "for model in ml_models:\n",
    "    model.fit(X_train, y_train)\n",
    "    print(f\"finished training {model}\")"
   ]
  },
  {
   "cell_type": "code",
   "execution_count": 9,
   "metadata": {},
   "outputs": [
    {
     "name": "stdout",
     "output_type": "stream",
     "text": [
      "LogisticRegression(n_jobs=-1, random_state=42) accuracy = 0.8030499811470946\n",
      "RandomForestClassifier(random_state=42) accuracy = 0.9916418785872889\n"
     ]
    }
   ],
   "source": [
    "for model in ml_models:\n",
    "    print(f\"{model} accuracy = {model.score(X_test, y_test)}\")"
   ]
  }
 ],
 "metadata": {
  "kernelspec": {
   "display_name": "Python 3",
   "language": "python",
   "name": "python3"
  },
  "language_info": {
   "codemirror_mode": {
    "name": "ipython",
    "version": 3
   },
   "file_extension": ".py",
   "mimetype": "text/x-python",
   "name": "python",
   "nbconvert_exporter": "python",
   "pygments_lexer": "ipython3",
   "version": "3.12.1"
  }
 },
 "nbformat": 4,
 "nbformat_minor": 2
}
